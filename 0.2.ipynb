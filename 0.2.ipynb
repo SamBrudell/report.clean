{
  "nbformat": 4,
  "nbformat_minor": 0,
  "metadata": {
    "colab": {
      "provenance": [],
      "history_visible": true,
      "authorship_tag": "ABX9TyOxujZOTZAR/nn3gFQU/oqY",
      "include_colab_link": true
    },
    "kernelspec": {
      "name": "python3",
      "display_name": "Python 3"
    },
    "language_info": {
      "name": "python"
    }
  },
  "cells": [
    {
      "cell_type": "markdown",
      "metadata": {
        "id": "view-in-github",
        "colab_type": "text"
      },
      "source": [
        "<a href=\"https://colab.research.google.com/github/SamBrudell/report.clean/blob/V1/0.2.ipynb\" target=\"_parent\"><img src=\"https://colab.research.google.com/assets/colab-badge.svg\" alt=\"Open In Colab\"/></a>"
      ]
    },
    {
      "cell_type": "code",
      "execution_count": 45,
      "metadata": {
        "colab": {
          "base_uri": "https://localhost:8080/",
          "height": 740
        },
        "id": "ccD-U40keI1D",
        "outputId": "93f447ec-8519-457f-fef4-378129c5545a"
      },
      "outputs": [
        {
          "output_type": "stream",
          "name": "stdout",
          "text": [
            "Requirement already satisfied: pandas in /usr/local/lib/python3.11/dist-packages (2.2.2)\n",
            "Requirement already satisfied: openpyxl in /usr/local/lib/python3.11/dist-packages (3.1.5)\n",
            "Requirement already satisfied: xlsxwriter in /usr/local/lib/python3.11/dist-packages (3.2.2)\n",
            "Requirement already satisfied: numpy>=1.23.2 in /usr/local/lib/python3.11/dist-packages (from pandas) (2.0.2)\n",
            "Requirement already satisfied: python-dateutil>=2.8.2 in /usr/local/lib/python3.11/dist-packages (from pandas) (2.8.2)\n",
            "Requirement already satisfied: pytz>=2020.1 in /usr/local/lib/python3.11/dist-packages (from pandas) (2025.2)\n",
            "Requirement already satisfied: tzdata>=2022.7 in /usr/local/lib/python3.11/dist-packages (from pandas) (2025.2)\n",
            "Requirement already satisfied: et-xmlfile in /usr/local/lib/python3.11/dist-packages (from openpyxl) (2.0.0)\n",
            "Requirement already satisfied: six>=1.5 in /usr/local/lib/python3.11/dist-packages (from python-dateutil>=2.8.2->pandas) (1.17.0)\n",
            "Drive already mounted at /content/drive; to attempt to forcibly remount, call drive.mount(\"/content/drive\", force_remount=True).\n"
          ]
        },
        {
          "output_type": "stream",
          "name": "stderr",
          "text": [
            "/usr/local/lib/python3.11/dist-packages/gdown/parse_url.py:48: UserWarning: You specified a Google Drive link that is not the correct link to download a file. You might want to try `--fuzzy` option or the following url: https://drive.google.com/uc?id=None\n",
            "  warnings.warn(\n",
            "Downloading...\n",
            "From: https://drive.google.com/drive/folders/1bPqzOM7tw76XgUGdd7Tbd65e0HwMG3eb\n",
            "To: /content/downloaded_file.csv\n",
            "1.23MB [00:00, 1.81MB/s]"
          ]
        },
        {
          "output_type": "stream",
          "name": "stdout",
          "text": [
            "File downloaded successfully to downloaded_file.csv\n",
            "Error parsing CSV: skipping bad lines and trying again.\n",
            "Available columns: ['<!doctype html><html class=\"hcfe\" data-page-type=\"ANSWER\" lang=\"en\"><head><title>Update your browser to use Google Drive and other apps - Google Drive Help</title><meta content=\"email=no\" name=\"format-detection\"><meta content=\"follow', 'noindex\" name=\"robots\"><meta content=\"IE=edge', 'chrome=1\" http-equiv=\"X-UA-Compatible\"><meta content=\"A web browser is what you use to go to websites and use online apps like Google Drive. This article will show you how to update your browser and fix problems so you can keep using Google Drive and\" name=\"description\"><meta content=\"XDaf09mosy9iTj6dOnwb6sKTrNhfKwOS6v98lPV0dEE\" name=\"google-site-verification\"><link href=\"https://support.google.com/drive/answer/6283888?hl=en\" rel=\"canonical\"><meta content=\"width=device-width', 'initial-scale=1', 'minimum-scale=1', 'maximum-scale=3', 'user-scalable=yes\" name=\"viewport\"><style>@font-face{font-family:\\'Roboto\\';font-style:normal;font-weight:400;src:url(https://fonts.gstatic.com/s/roboto/v18/KFOmCnqEu92Fr1Mu4mxMKTU1Kg.woff)format(\\'woff\\');}@font-face{font-family:\\'Roboto\\';font-style:normal;font-weight:500;src:url(https://fonts.gstatic.com/s/roboto/v18/KFOlCnqEu92Fr1MmEU9fBBc-AMP6lQ.woff)format(\\'woff\\');}@font-face{font-family:\\'Roboto\\';font-style:normal;font-weight:700;src:url(https://fonts.gstatic.com/s/roboto/v18/KFOlCnqEu92Fr1MmWUlfBBc-AMP6lQ.woff)format(\\'woff\\');}</style><style>@font-face{font-family:\\'Google Sans\\';font-style:normal;font-weight:400;src:url(https://fonts.gstatic.com/s/googlesans/v16/4UaGrENHsxJlGDuGo1OIlL3OwpheKQtG.woff)format(\\'woff\\');}@font-face{font-family:\\'Google Sans\\';font-style:normal;font-weight:500;src:url(https://fonts.gstatic.com/s/googlesans/v16/4UabrENHsxJlGDuGo1OIlLU94YtzCwBsPF4o.woff)format(\\'woff\\');}</style><link href=\"https://fonts.googleapis.com/css2?family=Google+Sans+Text:wght@400;500;700&amp;display=swap\" as=\"style\" id=\"font-gst\" rel=\"preload\" nonce=\"q4D81KY7KPnIQE+DPCBm\"><link href=\"https://fonts.googleapis.com/css2?family=Noto+Color+Emoji&amp;display=swap\" as=\"style\" id=\"font-nce\" rel=\"preload\" nonce=\"q4D81KY7KPnIQE+DPCBm\"><script nonce=\"q4D81KY7KPnIQE+DPCBm\">document.getElementById(\\'font-gst\\').addEventListener(\\'load\\'', 'function(){this.rel=\"stylesheet\";});document.getElementById(\\'font-nce\\').addEventListener(\\'load\\'', 'function(){this.rel=\"stylesheet\";});</script> <script nonce=\"q4D81KY7KPnIQE+DPCBm\">']\n"
          ]
        },
        {
          "output_type": "stream",
          "name": "stderr",
          "text": [
            "\n"
          ]
        },
        {
          "output_type": "error",
          "ename": "KeyError",
          "evalue": "'Cost Centre'",
          "traceback": [
            "\u001b[0;31m---------------------------------------------------------------------------\u001b[0m",
            "\u001b[0;31mKeyError\u001b[0m                                  Traceback (most recent call last)",
            "\u001b[0;32m<ipython-input-45-1a988d08d0d7>\u001b[0m in \u001b[0;36m<cell line: 0>\u001b[0;34m()\u001b[0m\n\u001b[1;32m     38\u001b[0m \u001b[0;34m\u001b[0m\u001b[0m\n\u001b[1;32m     39\u001b[0m \u001b[0;32mwith\u001b[0m \u001b[0mpd\u001b[0m\u001b[0;34m.\u001b[0m\u001b[0mExcelWriter\u001b[0m\u001b[0;34m(\u001b[0m\u001b[0moutput_excel\u001b[0m\u001b[0;34m,\u001b[0m \u001b[0mengine\u001b[0m\u001b[0;34m=\u001b[0m\u001b[0;34m\"xlsxwriter\"\u001b[0m\u001b[0;34m)\u001b[0m \u001b[0;32mas\u001b[0m \u001b[0mwriter\u001b[0m\u001b[0;34m:\u001b[0m\u001b[0;34m\u001b[0m\u001b[0;34m\u001b[0m\u001b[0m\n\u001b[0;32m---> 40\u001b[0;31m     \u001b[0;32mfor\u001b[0m \u001b[0mvalue\u001b[0m\u001b[0;34m,\u001b[0m \u001b[0msubset\u001b[0m \u001b[0;32min\u001b[0m \u001b[0mdf\u001b[0m\u001b[0;34m.\u001b[0m\u001b[0mgroupby\u001b[0m\u001b[0;34m(\u001b[0m\u001b[0mcolumn_name\u001b[0m\u001b[0;34m)\u001b[0m\u001b[0;34m:\u001b[0m\u001b[0;34m\u001b[0m\u001b[0;34m\u001b[0m\u001b[0m\n\u001b[0m\u001b[1;32m     41\u001b[0m         \u001b[0msubset\u001b[0m\u001b[0;34m.\u001b[0m\u001b[0mto_excel\u001b[0m\u001b[0;34m(\u001b[0m\u001b[0mwriter\u001b[0m\u001b[0;34m,\u001b[0m \u001b[0msheet_name\u001b[0m\u001b[0;34m=\u001b[0m\u001b[0mstr\u001b[0m\u001b[0;34m(\u001b[0m\u001b[0mvalue\u001b[0m\u001b[0;34m)\u001b[0m\u001b[0;34m[\u001b[0m\u001b[0;34m:\u001b[0m\u001b[0;36m31\u001b[0m\u001b[0;34m]\u001b[0m\u001b[0;34m,\u001b[0m \u001b[0mindex\u001b[0m\u001b[0;34m=\u001b[0m\u001b[0;32mFalse\u001b[0m\u001b[0;34m)\u001b[0m  \u001b[0;31m# Excel sheet names max length is 31\u001b[0m\u001b[0;34m\u001b[0m\u001b[0;34m\u001b[0m\u001b[0m\n\u001b[1;32m     42\u001b[0m \u001b[0;34m\u001b[0m\u001b[0m\n",
            "\u001b[0;32m/usr/local/lib/python3.11/dist-packages/pandas/core/frame.py\u001b[0m in \u001b[0;36mgroupby\u001b[0;34m(self, by, axis, level, as_index, sort, group_keys, observed, dropna)\u001b[0m\n\u001b[1;32m   9181\u001b[0m             \u001b[0;32mraise\u001b[0m \u001b[0mTypeError\u001b[0m\u001b[0;34m(\u001b[0m\u001b[0;34m\"You have to supply one of 'by' and 'level'\"\u001b[0m\u001b[0;34m)\u001b[0m\u001b[0;34m\u001b[0m\u001b[0;34m\u001b[0m\u001b[0m\n\u001b[1;32m   9182\u001b[0m \u001b[0;34m\u001b[0m\u001b[0m\n\u001b[0;32m-> 9183\u001b[0;31m         return DataFrameGroupBy(\n\u001b[0m\u001b[1;32m   9184\u001b[0m             \u001b[0mobj\u001b[0m\u001b[0;34m=\u001b[0m\u001b[0mself\u001b[0m\u001b[0;34m,\u001b[0m\u001b[0;34m\u001b[0m\u001b[0;34m\u001b[0m\u001b[0m\n\u001b[1;32m   9185\u001b[0m             \u001b[0mkeys\u001b[0m\u001b[0;34m=\u001b[0m\u001b[0mby\u001b[0m\u001b[0;34m,\u001b[0m\u001b[0;34m\u001b[0m\u001b[0;34m\u001b[0m\u001b[0m\n",
            "\u001b[0;32m/usr/local/lib/python3.11/dist-packages/pandas/core/groupby/groupby.py\u001b[0m in \u001b[0;36m__init__\u001b[0;34m(self, obj, keys, axis, level, grouper, exclusions, selection, as_index, sort, group_keys, observed, dropna)\u001b[0m\n\u001b[1;32m   1327\u001b[0m \u001b[0;34m\u001b[0m\u001b[0m\n\u001b[1;32m   1328\u001b[0m         \u001b[0;32mif\u001b[0m \u001b[0mgrouper\u001b[0m \u001b[0;32mis\u001b[0m \u001b[0;32mNone\u001b[0m\u001b[0;34m:\u001b[0m\u001b[0;34m\u001b[0m\u001b[0;34m\u001b[0m\u001b[0m\n\u001b[0;32m-> 1329\u001b[0;31m             grouper, exclusions, obj = get_grouper(\n\u001b[0m\u001b[1;32m   1330\u001b[0m                 \u001b[0mobj\u001b[0m\u001b[0;34m,\u001b[0m\u001b[0;34m\u001b[0m\u001b[0;34m\u001b[0m\u001b[0m\n\u001b[1;32m   1331\u001b[0m                 \u001b[0mkeys\u001b[0m\u001b[0;34m,\u001b[0m\u001b[0;34m\u001b[0m\u001b[0;34m\u001b[0m\u001b[0m\n",
            "\u001b[0;32m/usr/local/lib/python3.11/dist-packages/pandas/core/groupby/grouper.py\u001b[0m in \u001b[0;36mget_grouper\u001b[0;34m(obj, key, axis, level, sort, observed, validate, dropna)\u001b[0m\n\u001b[1;32m   1041\u001b[0m                 \u001b[0min_axis\u001b[0m\u001b[0;34m,\u001b[0m \u001b[0mlevel\u001b[0m\u001b[0;34m,\u001b[0m \u001b[0mgpr\u001b[0m \u001b[0;34m=\u001b[0m \u001b[0;32mFalse\u001b[0m\u001b[0;34m,\u001b[0m \u001b[0mgpr\u001b[0m\u001b[0;34m,\u001b[0m \u001b[0;32mNone\u001b[0m\u001b[0;34m\u001b[0m\u001b[0;34m\u001b[0m\u001b[0m\n\u001b[1;32m   1042\u001b[0m             \u001b[0;32melse\u001b[0m\u001b[0;34m:\u001b[0m\u001b[0;34m\u001b[0m\u001b[0;34m\u001b[0m\u001b[0m\n\u001b[0;32m-> 1043\u001b[0;31m                 \u001b[0;32mraise\u001b[0m \u001b[0mKeyError\u001b[0m\u001b[0;34m(\u001b[0m\u001b[0mgpr\u001b[0m\u001b[0;34m)\u001b[0m\u001b[0;34m\u001b[0m\u001b[0;34m\u001b[0m\u001b[0m\n\u001b[0m\u001b[1;32m   1044\u001b[0m         \u001b[0;32melif\u001b[0m \u001b[0misinstance\u001b[0m\u001b[0;34m(\u001b[0m\u001b[0mgpr\u001b[0m\u001b[0;34m,\u001b[0m \u001b[0mGrouper\u001b[0m\u001b[0;34m)\u001b[0m \u001b[0;32mand\u001b[0m \u001b[0mgpr\u001b[0m\u001b[0;34m.\u001b[0m\u001b[0mkey\u001b[0m \u001b[0;32mis\u001b[0m \u001b[0;32mnot\u001b[0m \u001b[0;32mNone\u001b[0m\u001b[0;34m:\u001b[0m\u001b[0;34m\u001b[0m\u001b[0;34m\u001b[0m\u001b[0m\n\u001b[1;32m   1045\u001b[0m             \u001b[0;31m# Add key to exclusions\u001b[0m\u001b[0;34m\u001b[0m\u001b[0;34m\u001b[0m\u001b[0m\n",
            "\u001b[0;31mKeyError\u001b[0m: 'Cost Centre'"
          ]
        }
      ],
      "source": [
        "!pip install pandas openpyxl xlsxwriter\n",
        "import gdown\n",
        "import pandas as pd\n",
        "import re\n",
        "from google.colab import drive\n",
        "\n",
        "# Mount Google Drive\n",
        "drive.mount('/content/drive')  #  authentication prompt\n",
        "\n",
        "# Google Drive shareable file URL (replace with your actual URL)\n",
        "url = 'https://drive.google.com/drive/folders/1bPqzOM7tw76XgUGdd7Tbd65e0HwMG3eb'  # Use the correct file ID\n",
        "\n",
        "# Local path where the file will be saved\n",
        "output_file_path = 'downloaded_file.csv'\n",
        "\n",
        "# Download the file from Google Drive\n",
        "gdown.download(url, output_file_path, quiet=False)\n",
        "\n",
        "print(f\"File downloaded successfully to {output_file_path}\")\n",
        "\n",
        "# Read the CSV file with encoding handling\n",
        "\n",
        "try:\n",
        "    df = pd.read_csv(output_file_path, encoding='ISO-8859-1', quotechar='\"', quoting=csv.QUOTE_MINIMAL)\n",
        "    print(\"File read successfully!\")\n",
        "except pd.errors.ParserError:\n",
        "    print(\"Error parsing CSV: skipping bad lines and trying again.\")\n",
        "    df = pd.read_csv(output_file_path, encoding='ISO-8859-1', quotechar='\"', quoting=csv.QUOTE_MINIMAL, on_bad_lines='skip')\n",
        "\n",
        "\n",
        "output_excel = \"split_data.xlsx\"\n",
        "\n",
        "# Print available columns for debugging\n",
        "print(\"Available columns:\", df.columns.tolist())\n",
        "\n",
        "\n",
        "column_name = 'Cost Centre'\n",
        "\n",
        "with pd.ExcelWriter(output_excel, engine=\"xlsxwriter\") as writer:\n",
        "    for value, subset in df.groupby(column_name):\n",
        "        subset.to_excel(writer, sheet_name=str(value)[:31], index=False)  # Excel sheet names max length is 31\n",
        "\n",
        "print(f\"Excel file '{output_excel}' created successfully!\")\n",
        "\n",
        "\n",
        "# Step 2: Save the filtered file to Google Drive\n",
        "GL_Split = '/content/drive/My Drive/filtered_file.csv'\n",
        "\n",
        "# Write the modified data back to a new CSV file in Google Drive\n",
        "df.to_csv(GL_Split, index=False)\n",
        "\n",
        "print(f\"Filtered CSV file saved to Google Drive at: {GL_Split}\")"
      ]
    }
  ]
}
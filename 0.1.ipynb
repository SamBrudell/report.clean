{
  "nbformat": 4,
  "nbformat_minor": 0,
  "metadata": {
    "colab": {
      "provenance": [],
      "authorship_tag": "ABX9TyP0fcxfumZHhALuLoe63TNK",
      "include_colab_link": true
    },
    "kernelspec": {
      "name": "python3",
      "display_name": "Python 3"
    },
    "language_info": {
      "name": "python"
    }
  },
  "cells": [
    {
      "cell_type": "markdown",
      "metadata": {
        "id": "view-in-github",
        "colab_type": "text"
      },
      "source": [
        "<a href=\"https://colab.research.google.com/github/SamBrudell/report.clean/blob/V1/0.1.ipynb\" target=\"_parent\"><img src=\"https://colab.research.google.com/assets/colab-badge.svg\" alt=\"Open In Colab\"/></a>"
      ]
    },
    {
      "cell_type": "code",
      "execution_count": 14,
      "metadata": {
        "colab": {
          "base_uri": "https://localhost:8080/",
          "height": 384
        },
        "id": "ccD-U40keI1D",
        "outputId": "10eccb82-c11c-493c-a3c0-4b3cd63e60fa"
      },
      "outputs": [
        {
          "output_type": "error",
          "ename": "ModuleNotFoundError",
          "evalue": "No module named 'xlsxwriter'",
          "traceback": [
            "\u001b[0;31m---------------------------------------------------------------------------\u001b[0m",
            "\u001b[0;31mModuleNotFoundError\u001b[0m                       Traceback (most recent call last)",
            "\u001b[0;32m<ipython-input-14-f8a6ae5d2b7e>\u001b[0m in \u001b[0;36m<cell line: 0>\u001b[0;34m()\u001b[0m\n\u001b[1;32m      2\u001b[0m \u001b[0;32mimport\u001b[0m \u001b[0mpandas\u001b[0m \u001b[0;32mas\u001b[0m \u001b[0mpd\u001b[0m\u001b[0;34m\u001b[0m\u001b[0;34m\u001b[0m\u001b[0m\n\u001b[1;32m      3\u001b[0m \u001b[0;32mimport\u001b[0m \u001b[0mre\u001b[0m\u001b[0;34m\u001b[0m\u001b[0;34m\u001b[0m\u001b[0m\n\u001b[0;32m----> 4\u001b[0;31m \u001b[0;32mimport\u001b[0m \u001b[0mxlsxwriter\u001b[0m\u001b[0;34m\u001b[0m\u001b[0;34m\u001b[0m\u001b[0m\n\u001b[0m\u001b[1;32m      5\u001b[0m \u001b[0;32mfrom\u001b[0m \u001b[0mgoogle\u001b[0m\u001b[0;34m.\u001b[0m\u001b[0mcolab\u001b[0m \u001b[0;32mimport\u001b[0m \u001b[0mdrive\u001b[0m\u001b[0;34m\u001b[0m\u001b[0;34m\u001b[0m\u001b[0m\n\u001b[1;32m      6\u001b[0m \u001b[0;34m\u001b[0m\u001b[0m\n",
            "\u001b[0;31mModuleNotFoundError\u001b[0m: No module named 'xlsxwriter'",
            "",
            "\u001b[0;31m---------------------------------------------------------------------------\u001b[0;32m\nNOTE: If your import is failing due to a missing package, you can\nmanually install dependencies using either !pip or !apt.\n\nTo view examples of installing some common dependencies, click the\n\"Open Examples\" button below.\n\u001b[0;31m---------------------------------------------------------------------------\u001b[0m\n"
          ],
          "errorDetails": {
            "actions": [
              {
                "action": "open_url",
                "actionText": "Open Examples",
                "url": "/notebooks/snippets/importing_libraries.ipynb"
              }
            ]
          }
        }
      ],
      "source": [
        "\n",
        "import gdown\n",
        "import pandas as pd\n",
        "import re\n",
        "import xlsxwriter\n",
        "from google.colab import drive\n",
        "\n",
        "# Mount Google Drive\n",
        "drive.mount('/content/drive')  #  authentication prompt\n",
        "\n",
        "# Google Drive shareable file URL (replace with your actual URL)\n",
        "url = 'https://drive.google.com/drive/folders/1bPqzOM7tw76XgUGdd7Tbd65e0HwMG3eb'  # Use the correct file ID\n",
        "\n",
        "# Local path where the file will be saved\n",
        "output_file_path = 'downloaded_file.csv'\n",
        "\n",
        "# Download the file from Google Drive\n",
        "gdown.download(url, output_file_path, quiet=False)\n",
        "\n",
        "print(f\"File downloaded successfully to {output_file_path}\")\n",
        "\n",
        "# Read the CSV file with encoding handling\n",
        "\n",
        "try:\n",
        "    df = pd.read_csv(output_file_path, encoding='ISO-8859-1', quotechar='\"', quoting=csv.QUOTE_MINIMAL)\n",
        "    print(\"File read successfully!\")\n",
        "except pd.errors.ParserError:\n",
        "    print(\"Error parsing CSV: skipping bad lines and trying again.\")\n",
        "    df = pd.read_csv(output_file_path, encoding='ISO-8859-1', quotechar='\"', quoting=csv.QUOTE_MINIMAL, on_bad_lines='skip')\n",
        "\n",
        "\n",
        "# Define the column that you want to split (e.g., 'NumberColumn')\n",
        "column_to_split = 'Cost Centre'\n",
        "\n",
        "# Create a new Excel writer to write to a new file\n",
        "output_file = 'GL_Split.xlsx'\n",
        "with pd.ExcelWriter(output_file, engine='xlsxwriter') as writer:\n",
        "\n",
        "    # Get unique values in the column\n",
        "    unique_values = df[column_to_split].unique()\n",
        "\n",
        "    # Iterate over each unique value and split the dataframe\n",
        "    for value in unique_values:\n",
        "        # Filter the dataframe based on the unique value\n",
        "        filtered_df = df[df[column_to_split] == value]\n",
        "\n",
        "        # Write the filtered dataframe to a new sheet named by the value\n",
        "        filtered_df.to_excel(writer, sheet_name=str(value), index=False)\n",
        "\n",
        "\n",
        "# Step 2: Save the filtered file to Google Drive\n",
        "GL_Split = '/content/drive/My Drive/filtered_file.csv'\n",
        "\n",
        "# Write the modified data back to a new CSV file in Google Drive\n",
        "df.to_csv(GL_Split, index=False)\n",
        "\n",
        "print(f\"Filtered CSV file saved to Google Drive at: {GL_Split}\")"
      ]
    }
  ]
}